{
 "cells": [
  {
   "cell_type": "code",
   "execution_count": 1,
   "id": "7b2e8d10",
   "metadata": {},
   "outputs": [],
   "source": [
    "import numpy as np\n",
    "import pandas as pd\n",
    "import seaborn as sns\n",
    "import matplotlib.pyplot as plt"
   ]
  },
  {
   "cell_type": "code",
   "execution_count": 2,
   "id": "b8e86115",
   "metadata": {},
   "outputs": [],
   "source": [
    "df = pd.read_csv(r'Twitter-sentiment-self-drive-DFE.csv', encoding='utf-8', encoding_errors='ignore')"
   ]
  },
  {
   "cell_type": "code",
   "execution_count": 5,
   "id": "f697362f",
   "metadata": {},
   "outputs": [
    {
     "name": "stdout",
     "output_type": "stream",
     "text": [
      "<class 'pandas.core.frame.DataFrame'>\n",
      "RangeIndex: 7156 entries, 0 to 7155\n",
      "Data columns (total 11 columns):\n",
      " #   Column                 Non-Null Count  Dtype  \n",
      "---  ------                 --------------  -----  \n",
      " 0   _unit_id               7156 non-null   int64  \n",
      " 1   _golden                7156 non-null   bool   \n",
      " 2   _unit_state            7156 non-null   object \n",
      " 3   _trusted_judgments     7156 non-null   int64  \n",
      " 4   _last_judgment_at      7079 non-null   object \n",
      " 5   sentiment              7156 non-null   object \n",
      " 6   sentiment:confidence   7156 non-null   float64\n",
      " 7   our_id                 7156 non-null   int64  \n",
      " 8   sentiment_gold         77 non-null     object \n",
      " 9   sentiment_gold_reason  77 non-null     object \n",
      " 10  text                   7156 non-null   object \n",
      "dtypes: bool(1), float64(1), int64(3), object(6)\n",
      "memory usage: 566.2+ KB\n"
     ]
    }
   ],
   "source": [
    "df.info()"
   ]
  },
  {
   "cell_type": "code",
   "execution_count": 6,
   "id": "80288bbe",
   "metadata": {},
   "outputs": [
    {
     "data": {
      "text/plain": [
       "(7156, 11)"
      ]
     },
     "execution_count": 6,
     "metadata": {},
     "output_type": "execute_result"
    }
   ],
   "source": [
    "df.shape"
   ]
  },
  {
   "cell_type": "code",
   "execution_count": 7,
   "id": "8d64a969",
   "metadata": {},
   "outputs": [
    {
     "data": {
      "text/html": [
       "<div>\n",
       "<style scoped>\n",
       "    .dataframe tbody tr th:only-of-type {\n",
       "        vertical-align: middle;\n",
       "    }\n",
       "\n",
       "    .dataframe tbody tr th {\n",
       "        vertical-align: top;\n",
       "    }\n",
       "\n",
       "    .dataframe thead th {\n",
       "        text-align: right;\n",
       "    }\n",
       "</style>\n",
       "<table border=\"1\" class=\"dataframe\">\n",
       "  <thead>\n",
       "    <tr style=\"text-align: right;\">\n",
       "      <th></th>\n",
       "      <th>_unit_id</th>\n",
       "      <th>_golden</th>\n",
       "      <th>_unit_state</th>\n",
       "      <th>_trusted_judgments</th>\n",
       "      <th>_last_judgment_at</th>\n",
       "      <th>sentiment</th>\n",
       "      <th>sentiment:confidence</th>\n",
       "      <th>our_id</th>\n",
       "      <th>sentiment_gold</th>\n",
       "      <th>sentiment_gold_reason</th>\n",
       "      <th>text</th>\n",
       "    </tr>\n",
       "  </thead>\n",
       "  <tbody>\n",
       "    <tr>\n",
       "      <th>0</th>\n",
       "      <td>724227031</td>\n",
       "      <td>True</td>\n",
       "      <td>golden</td>\n",
       "      <td>236</td>\n",
       "      <td>NaN</td>\n",
       "      <td>5</td>\n",
       "      <td>0.7579</td>\n",
       "      <td>10001</td>\n",
       "      <td>5\\n4</td>\n",
       "      <td>Author is excited about the development of the...</td>\n",
       "      <td>Two places I'd invest all my money if I could:...</td>\n",
       "    </tr>\n",
       "    <tr>\n",
       "      <th>1</th>\n",
       "      <td>724227032</td>\n",
       "      <td>True</td>\n",
       "      <td>golden</td>\n",
       "      <td>231</td>\n",
       "      <td>NaN</td>\n",
       "      <td>5</td>\n",
       "      <td>0.8775</td>\n",
       "      <td>10002</td>\n",
       "      <td>5\\n4</td>\n",
       "      <td>Author is excited that driverless cars will be...</td>\n",
       "      <td>Awesome! Google driverless cars will help the ...</td>\n",
       "    </tr>\n",
       "    <tr>\n",
       "      <th>2</th>\n",
       "      <td>724227033</td>\n",
       "      <td>True</td>\n",
       "      <td>golden</td>\n",
       "      <td>233</td>\n",
       "      <td>NaN</td>\n",
       "      <td>2</td>\n",
       "      <td>0.6805</td>\n",
       "      <td>10003</td>\n",
       "      <td>2\\n1</td>\n",
       "      <td>The author is skeptical of the safety and reli...</td>\n",
       "      <td>If Google maps can't keep up with road constru...</td>\n",
       "    </tr>\n",
       "    <tr>\n",
       "      <th>3</th>\n",
       "      <td>724227034</td>\n",
       "      <td>True</td>\n",
       "      <td>golden</td>\n",
       "      <td>240</td>\n",
       "      <td>NaN</td>\n",
       "      <td>2</td>\n",
       "      <td>0.8820</td>\n",
       "      <td>10004</td>\n",
       "      <td>2\\n1</td>\n",
       "      <td>The author is skeptical of the project's value.</td>\n",
       "      <td>Autonomous cars seem way overhyped given the t...</td>\n",
       "    </tr>\n",
       "    <tr>\n",
       "      <th>4</th>\n",
       "      <td>724227035</td>\n",
       "      <td>True</td>\n",
       "      <td>golden</td>\n",
       "      <td>240</td>\n",
       "      <td>NaN</td>\n",
       "      <td>3</td>\n",
       "      <td>1.0000</td>\n",
       "      <td>10005</td>\n",
       "      <td>3</td>\n",
       "      <td>Author is making an observation without expres...</td>\n",
       "      <td>Just saw Google self-driving car on I-34. It w...</td>\n",
       "    </tr>\n",
       "  </tbody>\n",
       "</table>\n",
       "</div>"
      ],
      "text/plain": [
       "    _unit_id  _golden _unit_state  _trusted_judgments _last_judgment_at  \\\n",
       "0  724227031     True      golden                 236               NaN   \n",
       "1  724227032     True      golden                 231               NaN   \n",
       "2  724227033     True      golden                 233               NaN   \n",
       "3  724227034     True      golden                 240               NaN   \n",
       "4  724227035     True      golden                 240               NaN   \n",
       "\n",
       "  sentiment  sentiment:confidence  our_id sentiment_gold  \\\n",
       "0         5                0.7579   10001           5\\n4   \n",
       "1         5                0.8775   10002           5\\n4   \n",
       "2         2                0.6805   10003           2\\n1   \n",
       "3         2                0.8820   10004           2\\n1   \n",
       "4         3                1.0000   10005              3   \n",
       "\n",
       "                               sentiment_gold_reason  \\\n",
       "0  Author is excited about the development of the...   \n",
       "1  Author is excited that driverless cars will be...   \n",
       "2  The author is skeptical of the safety and reli...   \n",
       "3    The author is skeptical of the project's value.   \n",
       "4  Author is making an observation without expres...   \n",
       "\n",
       "                                                text  \n",
       "0  Two places I'd invest all my money if I could:...  \n",
       "1  Awesome! Google driverless cars will help the ...  \n",
       "2  If Google maps can't keep up with road constru...  \n",
       "3  Autonomous cars seem way overhyped given the t...  \n",
       "4  Just saw Google self-driving car on I-34. It w...  "
      ]
     },
     "execution_count": 7,
     "metadata": {},
     "output_type": "execute_result"
    }
   ],
   "source": [
    "df.head()"
   ]
  },
  {
   "cell_type": "code",
   "execution_count": 14,
   "id": "8341d041",
   "metadata": {},
   "outputs": [
    {
     "ename": "NameError",
     "evalue": "name 'go' is not defined",
     "output_type": "error",
     "traceback": [
      "\u001b[0;31m---------------------------------------------------------------------------\u001b[0m",
      "\u001b[0;31mNameError\u001b[0m                                 Traceback (most recent call last)",
      "\u001b[0;32m/var/folders/tt/h9wl768d55jd_mknkzx2mnrh0000gn/T/ipykernel_7457/1289722812.py\u001b[0m in \u001b[0;36m<module>\u001b[0;34m\u001b[0m\n\u001b[0;32m----> 1\u001b[0;31m trace0 = go.scatter(\n\u001b[0m\u001b[1;32m      2\u001b[0m \u001b[0mx\u001b[0m\u001b[0;34m=\u001b[0m \u001b[0msentiment\u001b[0m\u001b[0;34m[\u001b[0m\u001b[0;34m'sentiment'\u001b[0m\u001b[0;34m]\u001b[0m\u001b[0;34m,\u001b[0m\u001b[0;34m\u001b[0m\u001b[0;34m\u001b[0m\u001b[0m\n\u001b[1;32m      3\u001b[0m \u001b[0my\u001b[0m\u001b[0;34m=\u001b[0m \u001b[0msentiment_confidence\u001b[0m\u001b[0;34m[\u001b[0m\u001b[0;34m'sentiment_confidence'\u001b[0m\u001b[0;34m]\u001b[0m\u001b[0;34m,\u001b[0m\u001b[0;34m\u001b[0m\u001b[0;34m\u001b[0m\u001b[0m\n\u001b[1;32m      4\u001b[0m \u001b[0mname\u001b[0m\u001b[0;34m=\u001b[0m\u001b[0;34m'Scat_plot1'\u001b[0m\u001b[0;34m,\u001b[0m\u001b[0;34m\u001b[0m\u001b[0;34m\u001b[0m\u001b[0m\n\u001b[1;32m      5\u001b[0m \u001b[0mline\u001b[0m\u001b[0;34m=\u001b[0m \u001b[0mdict\u001b[0m\u001b[0;34m(\u001b[0m\u001b[0mcolor\u001b[0m\u001b[0;34m=\u001b[0m\u001b[0;34m(\u001b[0m\u001b[0;34m'rgb(6,250,24)'\u001b[0m\u001b[0;34m)\u001b[0m\u001b[0;34m)\u001b[0m\u001b[0;34m,\u001b[0m\u001b[0;34m\u001b[0m\u001b[0;34m\u001b[0m\u001b[0m\n",
      "\u001b[0;31mNameError\u001b[0m: name 'go' is not defined"
     ]
    }
   ],
   "source": []
  },
  {
   "cell_type": "code",
   "execution_count": 6,
   "id": "1ac091a5",
   "metadata": {},
   "outputs": [],
   "source": [
    "df.rename(columns={\"sentiment:confidence\": \"sentiment_confidence\"}, inplace=True)"
   ]
  },
  {
   "cell_type": "code",
   "execution_count": 5,
   "id": "5ef587f3",
   "metadata": {},
   "outputs": [
    {
     "data": {
      "text/html": [
       "<div>\n",
       "<style scoped>\n",
       "    .dataframe tbody tr th:only-of-type {\n",
       "        vertical-align: middle;\n",
       "    }\n",
       "\n",
       "    .dataframe tbody tr th {\n",
       "        vertical-align: top;\n",
       "    }\n",
       "\n",
       "    .dataframe thead th {\n",
       "        text-align: right;\n",
       "    }\n",
       "</style>\n",
       "<table border=\"1\" class=\"dataframe\">\n",
       "  <thead>\n",
       "    <tr style=\"text-align: right;\">\n",
       "      <th></th>\n",
       "      <th>_unit_id</th>\n",
       "      <th>_golden</th>\n",
       "      <th>_unit_state</th>\n",
       "      <th>_trusted_judgments</th>\n",
       "      <th>_last_judgment_at</th>\n",
       "      <th>sentiment</th>\n",
       "      <th>sentiment_confidence</th>\n",
       "      <th>our_id</th>\n",
       "      <th>sentiment_gold</th>\n",
       "      <th>sentiment_gold_reason</th>\n",
       "      <th>text</th>\n",
       "    </tr>\n",
       "  </thead>\n",
       "  <tbody>\n",
       "    <tr>\n",
       "      <th>0</th>\n",
       "      <td>724227031</td>\n",
       "      <td>True</td>\n",
       "      <td>golden</td>\n",
       "      <td>236</td>\n",
       "      <td>NaN</td>\n",
       "      <td>5</td>\n",
       "      <td>0.7579</td>\n",
       "      <td>10001</td>\n",
       "      <td>5\\n4</td>\n",
       "      <td>Author is excited about the development of the...</td>\n",
       "      <td>Two places I'd invest all my money if I could:...</td>\n",
       "    </tr>\n",
       "    <tr>\n",
       "      <th>1</th>\n",
       "      <td>724227032</td>\n",
       "      <td>True</td>\n",
       "      <td>golden</td>\n",
       "      <td>231</td>\n",
       "      <td>NaN</td>\n",
       "      <td>5</td>\n",
       "      <td>0.8775</td>\n",
       "      <td>10002</td>\n",
       "      <td>5\\n4</td>\n",
       "      <td>Author is excited that driverless cars will be...</td>\n",
       "      <td>Awesome! Google driverless cars will help the ...</td>\n",
       "    </tr>\n",
       "    <tr>\n",
       "      <th>2</th>\n",
       "      <td>724227033</td>\n",
       "      <td>True</td>\n",
       "      <td>golden</td>\n",
       "      <td>233</td>\n",
       "      <td>NaN</td>\n",
       "      <td>2</td>\n",
       "      <td>0.6805</td>\n",
       "      <td>10003</td>\n",
       "      <td>2\\n1</td>\n",
       "      <td>The author is skeptical of the safety and reli...</td>\n",
       "      <td>If Google maps can't keep up with road constru...</td>\n",
       "    </tr>\n",
       "    <tr>\n",
       "      <th>3</th>\n",
       "      <td>724227034</td>\n",
       "      <td>True</td>\n",
       "      <td>golden</td>\n",
       "      <td>240</td>\n",
       "      <td>NaN</td>\n",
       "      <td>2</td>\n",
       "      <td>0.8820</td>\n",
       "      <td>10004</td>\n",
       "      <td>2\\n1</td>\n",
       "      <td>The author is skeptical of the project's value.</td>\n",
       "      <td>Autonomous cars seem way overhyped given the t...</td>\n",
       "    </tr>\n",
       "    <tr>\n",
       "      <th>4</th>\n",
       "      <td>724227035</td>\n",
       "      <td>True</td>\n",
       "      <td>golden</td>\n",
       "      <td>240</td>\n",
       "      <td>NaN</td>\n",
       "      <td>3</td>\n",
       "      <td>1.0000</td>\n",
       "      <td>10005</td>\n",
       "      <td>3</td>\n",
       "      <td>Author is making an observation without expres...</td>\n",
       "      <td>Just saw Google self-driving car on I-34. It w...</td>\n",
       "    </tr>\n",
       "  </tbody>\n",
       "</table>\n",
       "</div>"
      ],
      "text/plain": [
       "    _unit_id  _golden _unit_state  _trusted_judgments _last_judgment_at  \\\n",
       "0  724227031     True      golden                 236               NaN   \n",
       "1  724227032     True      golden                 231               NaN   \n",
       "2  724227033     True      golden                 233               NaN   \n",
       "3  724227034     True      golden                 240               NaN   \n",
       "4  724227035     True      golden                 240               NaN   \n",
       "\n",
       "  sentiment  sentiment_confidence  our_id sentiment_gold  \\\n",
       "0         5                0.7579   10001           5\\n4   \n",
       "1         5                0.8775   10002           5\\n4   \n",
       "2         2                0.6805   10003           2\\n1   \n",
       "3         2                0.8820   10004           2\\n1   \n",
       "4         3                1.0000   10005              3   \n",
       "\n",
       "                               sentiment_gold_reason  \\\n",
       "0  Author is excited about the development of the...   \n",
       "1  Author is excited that driverless cars will be...   \n",
       "2  The author is skeptical of the safety and reli...   \n",
       "3    The author is skeptical of the project's value.   \n",
       "4  Author is making an observation without expres...   \n",
       "\n",
       "                                                text  \n",
       "0  Two places I'd invest all my money if I could:...  \n",
       "1  Awesome! Google driverless cars will help the ...  \n",
       "2  If Google maps can't keep up with road constru...  \n",
       "3  Autonomous cars seem way overhyped given the t...  \n",
       "4  Just saw Google self-driving car on I-34. It w...  "
      ]
     },
     "execution_count": 5,
     "metadata": {},
     "output_type": "execute_result"
    }
   ],
   "source": [
    "df.head()"
   ]
  },
  {
   "cell_type": "code",
   "execution_count": 9,
   "id": "474c3dc4",
   "metadata": {},
   "outputs": [
    {
     "name": "stderr",
     "output_type": "stream",
     "text": [
      "/Users/saulvergaray/opt/anaconda3/lib/python3.9/site-packages/seaborn/_decorators.py:36: FutureWarning: Pass the following variables as keyword args: x, y. From version 0.12, the only valid positional argument will be `data`, and passing other arguments without an explicit keyword will result in an error or misinterpretation.\n",
      "  warnings.warn(\n"
     ]
    },
    {
     "data": {
      "image/png": "[encoded data removed]",
      "text/plain": [
       "<Figure size 432x288 with 1 Axes>"
      ]
     },
     "metadata": {
      "needs_background": "light"
     },
     "output_type": "display_data"
    }
   ],
   "source": [
    "sns.scatterplot(df.sentiment, df.sentiment_confidence);"
   ]
  },
  {
   "cell_type": "code",
   "execution_count": 11,
   "id": "2c062ba7",
   "metadata": {},
   "outputs": [],
   "source": [
    "pie_df = df.query('sentiment_confidence > 0.8').copy()"
   ]
  },
  {
   "cell_type": "code",
   "execution_count": 12,
   "id": "7e64b39a",
   "metadata": {},
   "outputs": [
    {
     "name": "stdout",
     "output_type": "stream",
     "text": [
      "<class 'pandas.core.frame.DataFrame'>\n",
      "RangeIndex: 7156 entries, 0 to 7155\n",
      "Data columns (total 11 columns):\n",
      " #   Column                 Non-Null Count  Dtype  \n",
      "---  ------                 --------------  -----  \n",
      " 0   _unit_id               7156 non-null   int64  \n",
      " 1   _golden                7156 non-null   bool   \n",
      " 2   _unit_state            7156 non-null   object \n",
      " 3   _trusted_judgments     7156 non-null   int64  \n",
      " 4   _last_judgment_at      7079 non-null   object \n",
      " 5   sentiment              7156 non-null   object \n",
      " 6   sentiment_confidence   7156 non-null   float64\n",
      " 7   our_id                 7156 non-null   int64  \n",
      " 8   sentiment_gold         77 non-null     object \n",
      " 9   sentiment_gold_reason  77 non-null     object \n",
      " 10  text                   7156 non-null   object \n",
      "dtypes: bool(1), float64(1), int64(3), object(6)\n",
      "memory usage: 566.2+ KB\n"
     ]
    }
   ],
   "source": [
    "df.info()"
   ]
  },
  {
   "cell_type": "code",
   "execution_count": 13,
   "id": "cb7cee97",
   "metadata": {},
   "outputs": [
    {
     "data": {
      "text/html": [
       "<div>\n",
       "<style scoped>\n",
       "    .dataframe tbody tr th:only-of-type {\n",
       "        vertical-align: middle;\n",
       "    }\n",
       "\n",
       "    .dataframe tbody tr th {\n",
       "        vertical-align: top;\n",
       "    }\n",
       "\n",
       "    .dataframe thead th {\n",
       "        text-align: right;\n",
       "    }\n",
       "</style>\n",
       "<table border=\"1\" class=\"dataframe\">\n",
       "  <thead>\n",
       "    <tr style=\"text-align: right;\">\n",
       "      <th></th>\n",
       "      <th>_unit_id</th>\n",
       "      <th>_trusted_judgments</th>\n",
       "      <th>sentiment_confidence</th>\n",
       "      <th>our_id</th>\n",
       "    </tr>\n",
       "  </thead>\n",
       "  <tbody>\n",
       "    <tr>\n",
       "      <th>count</th>\n",
       "      <td>2.743000e+03</td>\n",
       "      <td>2743.000000</td>\n",
       "      <td>2743.000000</td>\n",
       "      <td>2743.000000</td>\n",
       "    </tr>\n",
       "    <tr>\n",
       "      <th>mean</th>\n",
       "      <td>7.243532e+08</td>\n",
       "      <td>4.168429</td>\n",
       "      <td>0.998240</td>\n",
       "      <td>3610.386074</td>\n",
       "    </tr>\n",
       "    <tr>\n",
       "      <th>std</th>\n",
       "      <td>2.817135e+05</td>\n",
       "      <td>12.189905</td>\n",
       "      <td>0.016116</td>\n",
       "      <td>2151.731837</td>\n",
       "    </tr>\n",
       "    <tr>\n",
       "      <th>min</th>\n",
       "      <td>7.242270e+08</td>\n",
       "      <td>1.000000</td>\n",
       "      <td>0.800100</td>\n",
       "      <td>1.000000</td>\n",
       "    </tr>\n",
       "    <tr>\n",
       "      <th>25%</th>\n",
       "      <td>7.243229e+08</td>\n",
       "      <td>3.000000</td>\n",
       "      <td>1.000000</td>\n",
       "      <td>1800.000000</td>\n",
       "    </tr>\n",
       "    <tr>\n",
       "      <th>50%</th>\n",
       "      <td>7.243248e+08</td>\n",
       "      <td>3.000000</td>\n",
       "      <td>1.000000</td>\n",
       "      <td>3521.000000</td>\n",
       "    </tr>\n",
       "    <tr>\n",
       "      <th>75%</th>\n",
       "      <td>7.243265e+08</td>\n",
       "      <td>3.000000</td>\n",
       "      <td>1.000000</td>\n",
       "      <td>5353.000000</td>\n",
       "    </tr>\n",
       "    <tr>\n",
       "      <th>max</th>\n",
       "      <td>7.269423e+08</td>\n",
       "      <td>241.000000</td>\n",
       "      <td>1.000000</td>\n",
       "      <td>10077.000000</td>\n",
       "    </tr>\n",
       "  </tbody>\n",
       "</table>\n",
       "</div>"
      ],
      "text/plain": [
       "           _unit_id  _trusted_judgments  sentiment_confidence        our_id\n",
       "count  2.743000e+03         2743.000000           2743.000000   2743.000000\n",
       "mean   7.243532e+08            4.168429              0.998240   3610.386074\n",
       "std    2.817135e+05           12.189905              0.016116   2151.731837\n",
       "min    7.242270e+08            1.000000              0.800100      1.000000\n",
       "25%    7.243229e+08            3.000000              1.000000   1800.000000\n",
       "50%    7.243248e+08            3.000000              1.000000   3521.000000\n",
       "75%    7.243265e+08            3.000000              1.000000   5353.000000\n",
       "max    7.269423e+08          241.000000              1.000000  10077.000000"
      ]
     },
     "execution_count": 13,
     "metadata": {},
     "output_type": "execute_result"
    }
   ],
   "source": [
    "pie_df.describe()"
   ]
  },
  {
   "cell_type": "code",
   "execution_count": 14,
   "id": "55d04107",
   "metadata": {},
   "outputs": [
    {
     "name": "stdout",
     "output_type": "stream",
     "text": [
      "<class 'pandas.core.frame.DataFrame'>\n",
      "Int64Index: 2743 entries, 1 to 7155\n",
      "Data columns (total 9 columns):\n",
      " #   Column                Non-Null Count  Dtype  \n",
      "---  ------                --------------  -----  \n",
      " 0   _unit_id              2743 non-null   int64  \n",
      " 1   _golden               2743 non-null   bool   \n",
      " 2   _unit_state           2743 non-null   object \n",
      " 3   _trusted_judgments    2743 non-null   int64  \n",
      " 4   _last_judgment_at     2706 non-null   object \n",
      " 5   sentiment             2743 non-null   object \n",
      " 6   sentiment_confidence  2743 non-null   float64\n",
      " 7   our_id                2743 non-null   int64  \n",
      " 8   text                  2743 non-null   object \n",
      "dtypes: bool(1), float64(1), int64(3), object(4)\n",
      "memory usage: 195.5+ KB\n"
     ]
    }
   ],
   "source": [
    "pie_df.drop(columns=['sentiment_gold', 'sentiment_gold_reason'], inplace=True)\n",
    "pie_df.info()"
   ]
  },
  {
   "cell_type": "code",
   "execution_count": 17,
   "id": "34d9c25f",
   "metadata": {},
   "outputs": [
    {
     "data": {
      "text/html": [
       "<div>\n",
       "<style scoped>\n",
       "    .dataframe tbody tr th:only-of-type {\n",
       "        vertical-align: middle;\n",
       "    }\n",
       "\n",
       "    .dataframe tbody tr th {\n",
       "        vertical-align: top;\n",
       "    }\n",
       "\n",
       "    .dataframe thead th {\n",
       "        text-align: right;\n",
       "    }\n",
       "</style>\n",
       "<table border=\"1\" class=\"dataframe\">\n",
       "  <thead>\n",
       "    <tr style=\"text-align: right;\">\n",
       "      <th></th>\n",
       "      <th>_unit_id</th>\n",
       "      <th>_golden</th>\n",
       "      <th>_unit_state</th>\n",
       "      <th>_trusted_judgments</th>\n",
       "      <th>_last_judgment_at</th>\n",
       "      <th>sentiment</th>\n",
       "      <th>sentiment_confidence</th>\n",
       "      <th>our_id</th>\n",
       "      <th>text</th>\n",
       "    </tr>\n",
       "  </thead>\n",
       "  <tbody>\n",
       "  </tbody>\n",
       "</table>\n",
       "</div>"
      ],
      "text/plain": [
       "Empty DataFrame\n",
       "Columns: [_unit_id, _golden, _unit_state, _trusted_judgments, _last_judgment_at, sentiment, sentiment_confidence, our_id, text]\n",
       "Index: []"
      ]
     },
     "execution_count": 17,
     "metadata": {},
     "output_type": "execute_result"
    }
   ],
   "source": [
    "pie_df.query('sentiment_confidence == \"golden\"')"
   ]
  },
  {
   "cell_type": "code",
   "execution_count": 18,
   "id": "77e5d2a9",
   "metadata": {},
   "outputs": [
    {
     "data": {
      "text/plain": [
       "_unit_id                False\n",
       "_golden                 False\n",
       "_unit_state              True\n",
       "_trusted_judgments      False\n",
       "_last_judgment_at       False\n",
       "sentiment               False\n",
       "sentiment_confidence    False\n",
       "our_id                  False\n",
       "text                    False\n",
       "dtype: bool"
      ]
     },
     "execution_count": 18,
     "metadata": {},
     "output_type": "execute_result"
    }
   ],
   "source": [
    "pie_df.isin(['golden']).any()"
   ]
  },
  {
   "cell_type": "code",
   "execution_count": 19,
   "id": "17fb7084",
   "metadata": {},
   "outputs": [
    {
     "data": {
      "text/plain": [
       "1       golden\n",
       "3       golden\n",
       "4       golden\n",
       "5       golden\n",
       "10      golden\n",
       "         ...  \n",
       "7149    golden\n",
       "7150    golden\n",
       "7153    golden\n",
       "7154    golden\n",
       "7155    golden\n",
       "Name: _unit_state, Length: 2743, dtype: object"
      ]
     },
     "execution_count": 19,
     "metadata": {},
     "output_type": "execute_result"
    }
   ],
   "source": [
    "pie_df._unit_state"
   ]
  },
  {
   "cell_type": "code",
   "execution_count": 20,
   "id": "24e7fa71",
   "metadata": {},
   "outputs": [
    {
     "data": {
      "text/html": [
       "<div>\n",
       "<style scoped>\n",
       "    .dataframe tbody tr th:only-of-type {\n",
       "        vertical-align: middle;\n",
       "    }\n",
       "\n",
       "    .dataframe tbody tr th {\n",
       "        vertical-align: top;\n",
       "    }\n",
       "\n",
       "    .dataframe thead th {\n",
       "        text-align: right;\n",
       "    }\n",
       "</style>\n",
       "<table border=\"1\" class=\"dataframe\">\n",
       "  <thead>\n",
       "    <tr style=\"text-align: right;\">\n",
       "      <th></th>\n",
       "      <th>_unit_id</th>\n",
       "      <th>_golden</th>\n",
       "      <th>_unit_state</th>\n",
       "      <th>_trusted_judgments</th>\n",
       "      <th>_last_judgment_at</th>\n",
       "      <th>sentiment</th>\n",
       "      <th>sentiment_confidence</th>\n",
       "      <th>our_id</th>\n",
       "      <th>text</th>\n",
       "    </tr>\n",
       "  </thead>\n",
       "  <tbody>\n",
       "    <tr>\n",
       "      <th>1</th>\n",
       "      <td>724227032</td>\n",
       "      <td>True</td>\n",
       "      <td>golden</td>\n",
       "      <td>231</td>\n",
       "      <td>NaN</td>\n",
       "      <td>5</td>\n",
       "      <td>0.8775</td>\n",
       "      <td>10002</td>\n",
       "      <td>Awesome! Google driverless cars will help the ...</td>\n",
       "    </tr>\n",
       "    <tr>\n",
       "      <th>3</th>\n",
       "      <td>724227034</td>\n",
       "      <td>True</td>\n",
       "      <td>golden</td>\n",
       "      <td>240</td>\n",
       "      <td>NaN</td>\n",
       "      <td>2</td>\n",
       "      <td>0.8820</td>\n",
       "      <td>10004</td>\n",
       "      <td>Autonomous cars seem way overhyped given the t...</td>\n",
       "    </tr>\n",
       "    <tr>\n",
       "      <th>4</th>\n",
       "      <td>724227035</td>\n",
       "      <td>True</td>\n",
       "      <td>golden</td>\n",
       "      <td>240</td>\n",
       "      <td>NaN</td>\n",
       "      <td>3</td>\n",
       "      <td>1.0000</td>\n",
       "      <td>10005</td>\n",
       "      <td>Just saw Google self-driving car on I-34. It w...</td>\n",
       "    </tr>\n",
       "    <tr>\n",
       "      <th>5</th>\n",
       "      <td>724227036</td>\n",
       "      <td>True</td>\n",
       "      <td>golden</td>\n",
       "      <td>241</td>\n",
       "      <td>NaN</td>\n",
       "      <td>3</td>\n",
       "      <td>1.0000</td>\n",
       "      <td>10006</td>\n",
       "      <td>Will driverless cars eventually replace taxi d...</td>\n",
       "    </tr>\n",
       "    <tr>\n",
       "      <th>10</th>\n",
       "      <td>724227041</td>\n",
       "      <td>True</td>\n",
       "      <td>golden</td>\n",
       "      <td>235</td>\n",
       "      <td>NaN</td>\n",
       "      <td>3</td>\n",
       "      <td>0.9184</td>\n",
       "      <td>10011</td>\n",
       "      <td>Driverless cars are now legal in Florida, Cali...</td>\n",
       "    </tr>\n",
       "  </tbody>\n",
       "</table>\n",
       "</div>"
      ],
      "text/plain": [
       "     _unit_id  _golden _unit_state  _trusted_judgments _last_judgment_at  \\\n",
       "1   724227032     True      golden                 231               NaN   \n",
       "3   724227034     True      golden                 240               NaN   \n",
       "4   724227035     True      golden                 240               NaN   \n",
       "5   724227036     True      golden                 241               NaN   \n",
       "10  724227041     True      golden                 235               NaN   \n",
       "\n",
       "   sentiment  sentiment_confidence  our_id  \\\n",
       "1          5                0.8775   10002   \n",
       "3          2                0.8820   10004   \n",
       "4          3                1.0000   10005   \n",
       "5          3                1.0000   10006   \n",
       "10         3                0.9184   10011   \n",
       "\n",
       "                                                 text  \n",
       "1   Awesome! Google driverless cars will help the ...  \n",
       "3   Autonomous cars seem way overhyped given the t...  \n",
       "4   Just saw Google self-driving car on I-34. It w...  \n",
       "5   Will driverless cars eventually replace taxi d...  \n",
       "10  Driverless cars are now legal in Florida, Cali...  "
      ]
     },
     "execution_count": 20,
     "metadata": {},
     "output_type": "execute_result"
    }
   ],
   "source": [
    "pie_df.head()"
   ]
  },
  {
   "cell_type": "code",
   "execution_count": 21,
   "id": "8cfb86d2",
   "metadata": {},
   "outputs": [
    {
     "data": {
      "text/plain": [
       "3               2106\n",
       "4                334\n",
       "2                160\n",
       "5                 82\n",
       "not_relevant      42\n",
       "1                 19\n",
       "Name: sentiment, dtype: int64"
      ]
     },
     "execution_count": 21,
     "metadata": {},
     "output_type": "execute_result"
    }
   ],
   "source": [
    "pie_df.sentiment.value_counts()"
   ]
  },
  {
   "cell_type": "code",
   "execution_count": 22,
   "id": "8713551f",
   "metadata": {},
   "outputs": [],
   "source": [
    "new_df= pd.DataFrame(data = pie_df.sentiment.value_counts())"
   ]
  },
  {
   "cell_type": "code",
   "execution_count": 24,
   "id": "d0d0730f",
   "metadata": {},
   "outputs": [
    {
     "data": {
      "text/html": [
       "<div>\n",
       "<style scoped>\n",
       "    .dataframe tbody tr th:only-of-type {\n",
       "        vertical-align: middle;\n",
       "    }\n",
       "\n",
       "    .dataframe tbody tr th {\n",
       "        vertical-align: top;\n",
       "    }\n",
       "\n",
       "    .dataframe thead th {\n",
       "        text-align: right;\n",
       "    }\n",
       "</style>\n",
       "<table border=\"1\" class=\"dataframe\">\n",
       "  <thead>\n",
       "    <tr style=\"text-align: right;\">\n",
       "      <th></th>\n",
       "      <th>sentiment</th>\n",
       "    </tr>\n",
       "  </thead>\n",
       "  <tbody>\n",
       "    <tr>\n",
       "      <th>3</th>\n",
       "      <td>2106</td>\n",
       "    </tr>\n",
       "    <tr>\n",
       "      <th>4</th>\n",
       "      <td>334</td>\n",
       "    </tr>\n",
       "    <tr>\n",
       "      <th>2</th>\n",
       "      <td>160</td>\n",
       "    </tr>\n",
       "    <tr>\n",
       "      <th>5</th>\n",
       "      <td>82</td>\n",
       "    </tr>\n",
       "    <tr>\n",
       "      <th>not_relevant</th>\n",
       "      <td>42</td>\n",
       "    </tr>\n",
       "    <tr>\n",
       "      <th>1</th>\n",
       "      <td>19</td>\n",
       "    </tr>\n",
       "  </tbody>\n",
       "</table>\n",
       "</div>"
      ],
      "text/plain": [
       "              sentiment\n",
       "3                  2106\n",
       "4                   334\n",
       "2                   160\n",
       "5                    82\n",
       "not_relevant         42\n",
       "1                    19"
      ]
     },
     "execution_count": 24,
     "metadata": {},
     "output_type": "execute_result"
    }
   ],
   "source": [
    "new_df"
   ]
  },
  {
   "cell_type": "code",
   "execution_count": 25,
   "id": "80f5b339",
   "metadata": {},
   "outputs": [],
   "source": [
    "new_df.reset_index(inplace=True)"
   ]
  },
  {
   "cell_type": "code",
   "execution_count": 26,
   "id": "48e4af48",
   "metadata": {},
   "outputs": [
    {
     "data": {
      "text/html": [
       "<div>\n",
       "<style scoped>\n",
       "    .dataframe tbody tr th:only-of-type {\n",
       "        vertical-align: middle;\n",
       "    }\n",
       "\n",
       "    .dataframe tbody tr th {\n",
       "        vertical-align: top;\n",
       "    }\n",
       "\n",
       "    .dataframe thead th {\n",
       "        text-align: right;\n",
       "    }\n",
       "</style>\n",
       "<table border=\"1\" class=\"dataframe\">\n",
       "  <thead>\n",
       "    <tr style=\"text-align: right;\">\n",
       "      <th></th>\n",
       "      <th>index</th>\n",
       "      <th>sentiment</th>\n",
       "    </tr>\n",
       "  </thead>\n",
       "  <tbody>\n",
       "    <tr>\n",
       "      <th>0</th>\n",
       "      <td>3</td>\n",
       "      <td>2106</td>\n",
       "    </tr>\n",
       "    <tr>\n",
       "      <th>1</th>\n",
       "      <td>4</td>\n",
       "      <td>334</td>\n",
       "    </tr>\n",
       "    <tr>\n",
       "      <th>2</th>\n",
       "      <td>2</td>\n",
       "      <td>160</td>\n",
       "    </tr>\n",
       "    <tr>\n",
       "      <th>3</th>\n",
       "      <td>5</td>\n",
       "      <td>82</td>\n",
       "    </tr>\n",
       "    <tr>\n",
       "      <th>4</th>\n",
       "      <td>not_relevant</td>\n",
       "      <td>42</td>\n",
       "    </tr>\n",
       "    <tr>\n",
       "      <th>5</th>\n",
       "      <td>1</td>\n",
       "      <td>19</td>\n",
       "    </tr>\n",
       "  </tbody>\n",
       "</table>\n",
       "</div>"
      ],
      "text/plain": [
       "          index  sentiment\n",
       "0             3       2106\n",
       "1             4        334\n",
       "2             2        160\n",
       "3             5         82\n",
       "4  not_relevant         42\n",
       "5             1         19"
      ]
     },
     "execution_count": 26,
     "metadata": {},
     "output_type": "execute_result"
    }
   ],
   "source": [
    "new_df"
   ]
  },
  {
   "cell_type": "code",
   "execution_count": 27,
   "id": "d720c19b",
   "metadata": {},
   "outputs": [],
   "source": [
    "new_df.columns= ['sentiment', 'count']"
   ]
  },
  {
   "cell_type": "code",
   "execution_count": 28,
   "id": "15373862",
   "metadata": {},
   "outputs": [
    {
     "data": {
      "text/html": [
       "<div>\n",
       "<style scoped>\n",
       "    .dataframe tbody tr th:only-of-type {\n",
       "        vertical-align: middle;\n",
       "    }\n",
       "\n",
       "    .dataframe tbody tr th {\n",
       "        vertical-align: top;\n",
       "    }\n",
       "\n",
       "    .dataframe thead th {\n",
       "        text-align: right;\n",
       "    }\n",
       "</style>\n",
       "<table border=\"1\" class=\"dataframe\">\n",
       "  <thead>\n",
       "    <tr style=\"text-align: right;\">\n",
       "      <th></th>\n",
       "      <th>sentiment</th>\n",
       "      <th>count</th>\n",
       "    </tr>\n",
       "  </thead>\n",
       "  <tbody>\n",
       "    <tr>\n",
       "      <th>0</th>\n",
       "      <td>3</td>\n",
       "      <td>2106</td>\n",
       "    </tr>\n",
       "    <tr>\n",
       "      <th>1</th>\n",
       "      <td>4</td>\n",
       "      <td>334</td>\n",
       "    </tr>\n",
       "    <tr>\n",
       "      <th>2</th>\n",
       "      <td>2</td>\n",
       "      <td>160</td>\n",
       "    </tr>\n",
       "    <tr>\n",
       "      <th>3</th>\n",
       "      <td>5</td>\n",
       "      <td>82</td>\n",
       "    </tr>\n",
       "    <tr>\n",
       "      <th>4</th>\n",
       "      <td>not_relevant</td>\n",
       "      <td>42</td>\n",
       "    </tr>\n",
       "    <tr>\n",
       "      <th>5</th>\n",
       "      <td>1</td>\n",
       "      <td>19</td>\n",
       "    </tr>\n",
       "  </tbody>\n",
       "</table>\n",
       "</div>"
      ],
      "text/plain": [
       "      sentiment  count\n",
       "0             3   2106\n",
       "1             4    334\n",
       "2             2    160\n",
       "3             5     82\n",
       "4  not_relevant     42\n",
       "5             1     19"
      ]
     },
     "execution_count": 28,
     "metadata": {},
     "output_type": "execute_result"
    }
   ],
   "source": [
    "new_df"
   ]
  },
  {
   "cell_type": "code",
   "execution_count": 29,
   "id": "8aad058a",
   "metadata": {},
   "outputs": [
    {
     "data": {
      "text/html": [
       "<div>\n",
       "<style scoped>\n",
       "    .dataframe tbody tr th:only-of-type {\n",
       "        vertical-align: middle;\n",
       "    }\n",
       "\n",
       "    .dataframe tbody tr th {\n",
       "        vertical-align: top;\n",
       "    }\n",
       "\n",
       "    .dataframe thead th {\n",
       "        text-align: right;\n",
       "    }\n",
       "</style>\n",
       "<table border=\"1\" class=\"dataframe\">\n",
       "  <thead>\n",
       "    <tr style=\"text-align: right;\">\n",
       "      <th></th>\n",
       "      <th>sentiment</th>\n",
       "      <th>count</th>\n",
       "    </tr>\n",
       "  </thead>\n",
       "  <tbody>\n",
       "    <tr>\n",
       "      <th>0</th>\n",
       "      <td>3</td>\n",
       "      <td>2106</td>\n",
       "    </tr>\n",
       "    <tr>\n",
       "      <th>1</th>\n",
       "      <td>4</td>\n",
       "      <td>334</td>\n",
       "    </tr>\n",
       "    <tr>\n",
       "      <th>2</th>\n",
       "      <td>2</td>\n",
       "      <td>160</td>\n",
       "    </tr>\n",
       "    <tr>\n",
       "      <th>3</th>\n",
       "      <td>5</td>\n",
       "      <td>82</td>\n",
       "    </tr>\n",
       "    <tr>\n",
       "      <th>5</th>\n",
       "      <td>1</td>\n",
       "      <td>19</td>\n",
       "    </tr>\n",
       "  </tbody>\n",
       "</table>\n",
       "</div>"
      ],
      "text/plain": [
       "  sentiment  count\n",
       "0         3   2106\n",
       "1         4    334\n",
       "2         2    160\n",
       "3         5     82\n",
       "5         1     19"
      ]
     },
     "execution_count": 29,
     "metadata": {},
     "output_type": "execute_result"
    }
   ],
   "source": [
    "new_df.drop(index = 4, axis = 0, inplace=True)\n",
    "new_df"
   ]
  },
  {
   "cell_type": "code",
   "execution_count": 34,
   "id": "001e817c",
   "metadata": {},
   "outputs": [
    {
     "data": {
      "image/png": "[encoded data removed]",
      "text/plain": [
       "<Figure size 432x288 with 1 Axes>"
      ]
     },
     "metadata": {},
     "output_type": "display_data"
    }
   ],
   "source": [
    "data = new_df['count']\n",
    "my_labels = new_df.sentiment\n",
    "plt.pie(data, labels= my_labels);"
   ]
  },
  {
   "cell_type": "code",
   "execution_count": 31,
   "id": "c6ba4536",
   "metadata": {},
   "outputs": [
    {
     "ename": "TypeError",
     "evalue": "pie() missing 1 required positional argument: 'x'",
     "output_type": "error",
     "traceback": [
      "\u001b[0;31m---------------------------------------------------------------------------\u001b[0m",
      "\u001b[0;31mTypeError\u001b[0m                                 Traceback (most recent call last)",
      "\u001b[0;32m/var/folders/tt/h9wl768d55jd_mknkzx2mnrh0000gn/T/ipykernel_1243/729516363.py\u001b[0m in \u001b[0;36m<module>\u001b[0;34m\u001b[0m\n\u001b[0;32m----> 1\u001b[0;31m \u001b[0mplt\u001b[0m\u001b[0;34m.\u001b[0m\u001b[0mpie\u001b[0m\u001b[0;34m(\u001b[0m\u001b[0mdata\u001b[0m\u001b[0;34m=\u001b[0m \u001b[0mnew_df\u001b[0m\u001b[0;34m,\u001b[0m \u001b[0mlabels\u001b[0m\u001b[0;34m=\u001b[0m \u001b[0mnew_df\u001b[0m\u001b[0;34m.\u001b[0m\u001b[0msentiment\u001b[0m\u001b[0;34m)\u001b[0m\u001b[0;34m\u001b[0m\u001b[0;34m\u001b[0m\u001b[0m\n\u001b[0m",
      "\u001b[0;31mTypeError\u001b[0m: pie() missing 1 required positional argument: 'x'"
     ]
    }
   ],
   "source": [
    "plt.pie(data= new_df, labels= new_df.sentiment)"
   ]
  },
  {
   "cell_type": "code",
   "execution_count": null,
   "id": "2f5985a8",
   "metadata": {},
   "outputs": [],
   "source": []
  }
 ],
 "metadata": {
  "kernelspec": {
   "display_name": "Python 3 (ipykernel)",
   "language": "python",
   "name": "python3"
  },
  "language_info": {
   "codemirror_mode": {
    "name": "ipython",
    "version": 3
   },
   "file_extension": ".py",
   "mimetype": "text/x-python",
   "name": "python",
   "nbconvert_exporter": "python",
   "pygments_lexer": "ipython3",
   "version": "3.9.7"
  }
 },
 "nbformat": 4,
 "nbformat_minor": 5
}
